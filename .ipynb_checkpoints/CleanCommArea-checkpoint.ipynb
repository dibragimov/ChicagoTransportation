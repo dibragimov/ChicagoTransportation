{
 "cells": [
  {
   "cell_type": "code",
   "execution_count": 1,
   "metadata": {},
   "outputs": [],
   "source": [
    "import pandas as pd"
   ]
  },
  {
   "cell_type": "code",
   "execution_count": 2,
   "metadata": {},
   "outputs": [
    {
     "name": "stderr",
     "output_type": "stream",
     "text": [
      "C:\\ProgramData\\Anaconda3\\lib\\site-packages\\ipykernel_launcher.py:1: ParserWarning: Falling back to the 'python' engine because the 'c' engine does not support regex separators (separators > 1 char and different from '\\s+' are interpreted as regex); you can avoid this warning by specifying engine='python'.\n",
      "  \"\"\"Entry point for launching an IPython kernel.\n"
     ]
    },
    {
     "data": {
      "text/html": [
       "<div>\n",
       "<style scoped>\n",
       "    .dataframe tbody tr th:only-of-type {\n",
       "        vertical-align: middle;\n",
       "    }\n",
       "\n",
       "    .dataframe tbody tr th {\n",
       "        vertical-align: top;\n",
       "    }\n",
       "\n",
       "    .dataframe thead th {\n",
       "        text-align: right;\n",
       "    }\n",
       "</style>\n",
       "<table border=\"1\" class=\"dataframe\">\n",
       "  <thead>\n",
       "    <tr style=\"text-align: right;\">\n",
       "      <th></th>\n",
       "      <th>Geometry</th>\n",
       "      <th>RestOfData</th>\n",
       "    </tr>\n",
       "  </thead>\n",
       "  <tbody>\n",
       "    <tr>\n",
       "      <th>0</th>\n",
       "      <td>\"MULTIPOLYGON (((-87.60914087617894 41.8446925...</td>\n",
       "      <td>0,0,0,0,35,DOUGLAS,35,46004621.1581,31027.0545098</td>\n",
       "    </tr>\n",
       "    <tr>\n",
       "      <th>1</th>\n",
       "      <td>\"MULTIPOLYGON (((-87.59215283879394 41.8169293...</td>\n",
       "      <td>0,0,0,0,36,OAKLAND,36,16913961.0408,19565.5061533</td>\n",
       "    </tr>\n",
       "    <tr>\n",
       "      <th>2</th>\n",
       "      <td>\"MULTIPOLYGON (((-87.62879823733725 41.8018930...</td>\n",
       "      <td>0,0,0,0,37,FULLER PARK,37,19916704.8692,25339....</td>\n",
       "    </tr>\n",
       "    <tr>\n",
       "      <th>3</th>\n",
       "      <td>\"MULTIPOLYGON (((-87.6067081256125 41.81681377...</td>\n",
       "      <td>0,0,0,0,38,GRAND BOULEVARD,38,48492503.1554,28...</td>\n",
       "    </tr>\n",
       "    <tr>\n",
       "      <th>4</th>\n",
       "      <td>\"MULTIPOLYGON (((-87.59215283879394 41.8169293...</td>\n",
       "      <td>0,0,0,0,39,KENWOOD,39,29071741.9283,23325.1679062</td>\n",
       "    </tr>\n",
       "  </tbody>\n",
       "</table>\n",
       "</div>"
      ],
      "text/plain": [
       "                                            Geometry  \\\n",
       "0  \"MULTIPOLYGON (((-87.60914087617894 41.8446925...   \n",
       "1  \"MULTIPOLYGON (((-87.59215283879394 41.8169293...   \n",
       "2  \"MULTIPOLYGON (((-87.62879823733725 41.8018930...   \n",
       "3  \"MULTIPOLYGON (((-87.6067081256125 41.81681377...   \n",
       "4  \"MULTIPOLYGON (((-87.59215283879394 41.8169293...   \n",
       "\n",
       "                                          RestOfData  \n",
       "0  0,0,0,0,35,DOUGLAS,35,46004621.1581,31027.0545098  \n",
       "1  0,0,0,0,36,OAKLAND,36,16913961.0408,19565.5061533  \n",
       "2  0,0,0,0,37,FULLER PARK,37,19916704.8692,25339....  \n",
       "3  0,0,0,0,38,GRAND BOULEVARD,38,48492503.1554,28...  \n",
       "4  0,0,0,0,39,KENWOOD,39,29071741.9283,23325.1679062  "
      ]
     },
     "execution_count": 2,
     "metadata": {},
     "output_type": "execute_result"
    }
   ],
   "source": [
    "comm_df = pd.read_csv('CommAreas.csv', sep='\",', names=['Geometry', 'RestOfData'], skiprows=1, encoding='utf-8', decimal='.' )\n",
    "comm_df.head(5)"
   ]
  },
  {
   "cell_type": "code",
   "execution_count": 3,
   "metadata": {},
   "outputs": [
    {
     "data": {
      "text/html": [
       "<div>\n",
       "<style scoped>\n",
       "    .dataframe tbody tr th:only-of-type {\n",
       "        vertical-align: middle;\n",
       "    }\n",
       "\n",
       "    .dataframe tbody tr th {\n",
       "        vertical-align: top;\n",
       "    }\n",
       "\n",
       "    .dataframe thead th {\n",
       "        text-align: right;\n",
       "    }\n",
       "</style>\n",
       "<table border=\"1\" class=\"dataframe\">\n",
       "  <thead>\n",
       "    <tr style=\"text-align: right;\">\n",
       "      <th></th>\n",
       "      <th>Geometry</th>\n",
       "      <th>RestOfData</th>\n",
       "    </tr>\n",
       "  </thead>\n",
       "  <tbody>\n",
       "    <tr>\n",
       "      <th>0</th>\n",
       "      <td>MULTIPOLYGON (((-87.60914087617894 41.84469250...</td>\n",
       "      <td>0,0,0,0,35,DOUGLAS,35,46004621.1581,31027.0545098</td>\n",
       "    </tr>\n",
       "    <tr>\n",
       "      <th>1</th>\n",
       "      <td>MULTIPOLYGON (((-87.59215283879394 41.81692934...</td>\n",
       "      <td>0,0,0,0,36,OAKLAND,36,16913961.0408,19565.5061533</td>\n",
       "    </tr>\n",
       "    <tr>\n",
       "      <th>2</th>\n",
       "      <td>MULTIPOLYGON (((-87.62879823733725 41.80189303...</td>\n",
       "      <td>0,0,0,0,37,FULLER PARK,37,19916704.8692,25339....</td>\n",
       "    </tr>\n",
       "    <tr>\n",
       "      <th>3</th>\n",
       "      <td>MULTIPOLYGON (((-87.6067081256125 41.816813770...</td>\n",
       "      <td>0,0,0,0,38,GRAND BOULEVARD,38,48492503.1554,28...</td>\n",
       "    </tr>\n",
       "    <tr>\n",
       "      <th>4</th>\n",
       "      <td>MULTIPOLYGON (((-87.59215283879394 41.81692934...</td>\n",
       "      <td>0,0,0,0,39,KENWOOD,39,29071741.9283,23325.1679062</td>\n",
       "    </tr>\n",
       "  </tbody>\n",
       "</table>\n",
       "</div>"
      ],
      "text/plain": [
       "                                            Geometry  \\\n",
       "0  MULTIPOLYGON (((-87.60914087617894 41.84469250...   \n",
       "1  MULTIPOLYGON (((-87.59215283879394 41.81692934...   \n",
       "2  MULTIPOLYGON (((-87.62879823733725 41.80189303...   \n",
       "3  MULTIPOLYGON (((-87.6067081256125 41.816813770...   \n",
       "4  MULTIPOLYGON (((-87.59215283879394 41.81692934...   \n",
       "\n",
       "                                          RestOfData  \n",
       "0  0,0,0,0,35,DOUGLAS,35,46004621.1581,31027.0545098  \n",
       "1  0,0,0,0,36,OAKLAND,36,16913961.0408,19565.5061533  \n",
       "2  0,0,0,0,37,FULLER PARK,37,19916704.8692,25339....  \n",
       "3  0,0,0,0,38,GRAND BOULEVARD,38,48492503.1554,28...  \n",
       "4  0,0,0,0,39,KENWOOD,39,29071741.9283,23325.1679062  "
      ]
     },
     "execution_count": 3,
     "metadata": {},
     "output_type": "execute_result"
    }
   ],
   "source": [
    "comm_df['Geometry'] = comm_df['Geometry'].str[1:]\n",
    "comm_df.head(5)"
   ]
  },
  {
   "cell_type": "code",
   "execution_count": 4,
   "metadata": {},
   "outputs": [],
   "source": [
    "comm_df_1 = comm_df['RestOfData'].str.split(pat = \",\", expand=True)\n",
    "#.head(5)"
   ]
  },
  {
   "cell_type": "code",
   "execution_count": 5,
   "metadata": {},
   "outputs": [],
   "source": [
    "comm_df['CommArea'] = comm_df_1[4]\n",
    "#comm_df.head(5)"
   ]
  },
  {
   "cell_type": "code",
   "execution_count": 6,
   "metadata": {},
   "outputs": [],
   "source": [
    "comm_df = comm_df.drop('RestOfData', axis=1)"
   ]
  },
  {
   "cell_type": "code",
   "execution_count": 7,
   "metadata": {},
   "outputs": [],
   "source": [
    "comm_df.to_csv('Comm_Areas_1.csv', sep=';', index=None)"
   ]
  },
  {
   "cell_type": "code",
   "execution_count": null,
   "metadata": {},
   "outputs": [],
   "source": []
  }
 ],
 "metadata": {
  "kernelspec": {
   "display_name": "Python 3",
   "language": "python",
   "name": "python3"
  },
  "language_info": {
   "codemirror_mode": {
    "name": "ipython",
    "version": 3
   },
   "file_extension": ".py",
   "mimetype": "text/x-python",
   "name": "python",
   "nbconvert_exporter": "python",
   "pygments_lexer": "ipython3",
   "version": "3.7.1"
  }
 },
 "nbformat": 4,
 "nbformat_minor": 2
}
